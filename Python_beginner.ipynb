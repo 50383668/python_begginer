{
  "nbformat": 4,
  "nbformat_minor": 0,
  "metadata": {
    "colab": {
      "provenance": [],
      "include_colab_link": true
    },
    "kernelspec": {
      "name": "python3",
      "display_name": "Python 3"
    },
    "language_info": {
      "name": "python"
    }
  },
  "cells": [
    {
      "cell_type": "markdown",
      "metadata": {
        "id": "view-in-github",
        "colab_type": "text"
      },
      "source": [
        "<a href=\"https://colab.research.google.com/github/50383668/python_begginer/blob/main/Python_beginner.ipynb\" target=\"_parent\"><img src=\"https://colab.research.google.com/assets/colab-badge.svg\" alt=\"Open In Colab\"/></a>"
      ]
    },
    {
      "cell_type": "code",
      "execution_count": null,
      "metadata": {
        "colab": {
          "base_uri": "https://localhost:8080/"
        },
        "id": "WdsoM8MB23uq",
        "outputId": "e7a1f318-0451-45c9-ef94-d982b1e5c9fd"
      },
      "outputs": [
        {
          "output_type": "stream",
          "name": "stdout",
          "text": [
            "4\n",
            "16\n",
            "2.0\n",
            "6\n",
            "12\n",
            "25\n",
            "6.0\n",
            "62\n",
            "67\n",
            "36\n"
          ]
        }
      ],
      "source": [
        "#interger\n",
        "print(2+2)\n",
        "print(4*4)\n",
        "print(8/4)\n",
        "print(9-3)\n",
        "print(7+5)\n",
        "print(5*5)\n",
        "print(36/6)\n",
        "print(96-34)\n",
        "print(64+3)\n",
        "print(9*4)"
      ]
    },
    {
      "cell_type": "code",
      "source": [
        "#float\n",
        "print(0.6+0.4)\n",
        "print(7.2-3.7)\n",
        "print(2.6*3.4)\n",
        "print(9.5/5)\n",
        "print(5.78+4.5)\n",
        "print(5.45-3.9)\n",
        "print(2.78*3.9)\n",
        "print(5.8/3.2)\n",
        "print(4.67+3.6)"
      ],
      "metadata": {
        "colab": {
          "base_uri": "https://localhost:8080/"
        },
        "id": "-5I_sLHG3udj",
        "outputId": "5dd6bde0-d878-4982-ba99-b44a7f0736fa"
      },
      "execution_count": null,
      "outputs": [
        {
          "output_type": "stream",
          "name": "stdout",
          "text": [
            "1.0\n",
            "3.5\n",
            "8.84\n",
            "1.9\n",
            "10.280000000000001\n",
            "1.5500000000000003\n",
            "10.841999999999999\n",
            "1.8124999999999998\n",
            "8.27\n"
          ]
        }
      ]
    },
    {
      "cell_type": "code",
      "source": [
        "#string\n",
        "print(\"my name is ann\")\n",
        "print(\"sempe\")\n",
        "print(\"python begginer\")\n",
        "print(\"i like coding\")\n",
        "print(\"family guy\")\n",
        "print(\"morning class\")\n",
        "print(\"wake up early\")\n",
        "print(\"be you tiful\")\n",
        "print(\"love life\")\n",
        "print(\"happiness\")\n",
        "print(\"young dumb\")\n",
        "\n"
      ],
      "metadata": {
        "colab": {
          "base_uri": "https://localhost:8080/"
        },
        "id": "DiNNbWBZ4Mp7",
        "outputId": "2019a5da-a1a0-4011-99e9-72984a889bbe"
      },
      "execution_count": null,
      "outputs": [
        {
          "output_type": "stream",
          "name": "stdout",
          "text": [
            "my name is ann\n",
            "sempe\n",
            "python begginer\n",
            "i like coding\n",
            "family guy\n",
            "morning class\n",
            "wake up early\n",
            "be you tiful\n",
            "love life\n",
            "happiness\n",
            "young dumb\n"
          ]
        }
      ]
    },
    {
      "cell_type": "code",
      "source": [
        "#boolean\n",
        "print(10<9)\n",
        "print(10==10)\n",
        "print(3>7)\n",
        "print(45==78)\n",
        "print(23<45)\n",
        "print(28==23)\n",
        "print(34>21)\n",
        "\n"
      ],
      "metadata": {
        "colab": {
          "base_uri": "https://localhost:8080/"
        },
        "id": "QVEKRicK4sFD",
        "outputId": "6654d942-40cf-4bcd-93e0-fa29f1d8f8ae"
      },
      "execution_count": null,
      "outputs": [
        {
          "output_type": "stream",
          "name": "stdout",
          "text": [
            "False\n",
            "True\n",
            "False\n",
            "False\n",
            "True\n",
            "False\n",
            "True\n"
          ]
        }
      ]
    },
    {
      "cell_type": "code",
      "source": [
        "from IPython.core.display import clear_output\n",
        "# variables\n",
        "x=5\n",
        "y=\"john\"\n",
        "print(x)\n",
        "print(y)\n",
        "x=23\n",
        "y=\"ginger\"\n",
        "print(x)\n",
        "print(y)\n",
        "x=8\n",
        "y=\"clout\"\n",
        "print(x)\n",
        "print(y)"
      ],
      "metadata": {
        "colab": {
          "base_uri": "https://localhost:8080/"
        },
        "id": "2AY2gZ8h6qDI",
        "outputId": "755b4f5c-ade2-4e55-b809-e38f1eff3a73"
      },
      "execution_count": null,
      "outputs": [
        {
          "output_type": "stream",
          "name": "stdout",
          "text": [
            "5\n",
            "john\n",
            "23\n",
            "ginger\n",
            "8\n",
            "clout\n"
          ]
        }
      ]
    },
    {
      "cell_type": "code",
      "source": [
        "def form():\n",
        "  name = input(\"please enter your name: \")\n",
        "  age = input(\"please enter your age: \")\n",
        "\n",
        "  print(\"my name is\",name, \"and my age is\",age)"
      ],
      "metadata": {
        "id": "LoTBcbYu82c0"
      },
      "execution_count": 4,
      "outputs": []
    },
    {
      "cell_type": "code",
      "source": [],
      "metadata": {
        "id": "l5GefcuVeSiS"
      },
      "execution_count": 5,
      "outputs": []
    },
    {
      "cell_type": "code",
      "source": [
        "form()"
      ],
      "metadata": {
        "colab": {
          "base_uri": "https://localhost:8080/"
        },
        "id": "VNQ2NEwcZfn0",
        "outputId": "f2c30b3c-a3be-43a9-c4d7-18ba00a54d48"
      },
      "execution_count": 5,
      "outputs": [
        {
          "output_type": "stream",
          "name": "stdout",
          "text": [
            "please enter your name: ann solonka\n",
            "please enter your age: 20\n",
            "my name is ann solonka and my age is 20\n"
          ]
        }
      ]
    }
  ]
}